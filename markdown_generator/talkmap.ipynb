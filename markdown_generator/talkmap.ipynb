{
 "cells": [
  {
   "cell_type": "markdown",
   "metadata": {},
   "source": [
    "# Leaflet cluster map of talk locations\n",
    "\n",
    "Run this from the _talks/ directory, which contains .md files of all your talks. This scrapes the location YAML field from each .md file, geolocates it with geopy/Nominatim, and uses the getorg library to output data, HTML, and Javascript for a standalone cluster map."
   ]
  },
  {
   "cell_type": "code",
   "execution_count": 2,
   "metadata": {},
   "outputs": [],
   "source": [
    "import os\n",
    "os.chdir('../_talks')"
   ]
  },
  {
   "cell_type": "code",
   "execution_count": 4,
   "metadata": {},
   "outputs": [],
   "source": [
    "#!pip install getorg --upgrade\n",
    "import glob\n",
    "import getorg\n",
    "from geopy import Nominatim\n",
    "\n",
    "geocoder = Nominatim(user_agent=\"Mozilla/5.0 (Macintosh; Intel Mac OS X 10_15_7) AppleWebKit/537.36 (KHTML, like Gecko) Chrome/86.0.4240.80 Safari/537.36\")\n",
    "location_dict = {}\n",
    "location = \"\"\n",
    "permalink = \"\"\n",
    "title = \"\""
   ]
  },
  {
   "cell_type": "code",
   "execution_count": 5,
   "metadata": {},
   "outputs": [
    {
     "name": "stdout",
     "output_type": "stream",
     "text": [
      "['2020-12-14-2020-NUML.md', '2022-01-12-2022-DSS-QAU.md', '2019-11-11-2019-NUML.md', '2009-12-02-2009-Conference-SAMT.md', '2010-12-01-2010-Conference-SAMT.md', '2008-03-30-2008-Workshop-ECIR.md', '2009-07-01-2009-Conference-HT.md', '2009-04-06-2009-Conference-ECIR.md', '2007-06-07-2007-Workshop-ESWC.md', '2021-02-17-2021-AMCAP-FJWU.md', '2020-06-19-2020-Virtual-University.md']\n"
     ]
    }
   ],
   "source": [
    "g = glob.glob(\"*.md\")\n",
    "print(g)"
   ]
  },
  {
   "cell_type": "code",
   "execution_count": 6,
   "metadata": {},
   "outputs": [
    {
     "name": "stdout",
     "output_type": "stream",
     "text": [
      "Islamabad, Pakistan \n",
      " اسلام آباد, وفاقی دارالحکومت اسلام آباد, 44000, پاکستان\n",
      "Islamabad, Pakistan \n",
      " اسلام آباد, وفاقی دارالحکومت اسلام آباد, 44000, پاکستان\n",
      "Islamabad, Pakistan \n",
      " اسلام آباد, وفاقی دارالحکومت اسلام آباد, 44000, پاکستان\n",
      "Graz, Austria \n",
      " Graz, Steiermark, Österreich\n",
      "Saarbrücken, Germany \n",
      " Saarbrücken, Regionalverband Saarbrücken, Saarland, Deutschland\n",
      "Glasgow, United Kingdom \n",
      " Glasgow, Glasgow City, Alba / Scotland, G2 9UF, United Kingdom\n",
      "Torino, Italy \n",
      " Torino, Piemonte, Italia\n",
      "Toulouse, France \n",
      " Toulouse, Haute-Garonne, Occitanie, France métropolitaine, 31080, France\n",
      "Innsbruck, Austria \n",
      " Innsbruck, Tirol, Österreich\n",
      "Rawalpindi, Pakistan \n",
      " Rawalpindi, ریلوے روڈ, Kamran Chowk, صدر, ضلع راولپنڈی, پنجاب, 23451, پاکستان\n",
      "Lahore, Pakistan \n",
      " لاہور, Lahore Cantonment Tehsil, پنجاب, 531, پاکستان\n"
     ]
    }
   ],
   "source": [
    "\n",
    "for file in g:\n",
    "    with open(file, 'r') as f:\n",
    "        lines = f.read()\n",
    "        if lines.find('location: \"') > 1:\n",
    "            loc_start = lines.find('location: \"') + 11\n",
    "            lines_trim = lines[loc_start:]\n",
    "            loc_end = lines_trim.find('\"')\n",
    "            location = lines_trim[:loc_end]\n",
    "                            \n",
    "       \n",
    "        location_dict[location] = geocoder.geocode(location)\n",
    "        print(location, \"\\n\", location_dict[location])\n"
   ]
  },
  {
   "cell_type": "code",
   "execution_count": 7,
   "metadata": {},
   "outputs": [
    {
     "data": {
      "text/plain": [
       "'Written map to ../talkmap/'"
      ]
     },
     "execution_count": 7,
     "metadata": {},
     "output_type": "execute_result"
    }
   ],
   "source": [
    "m = getorg.orgmap.create_map_obj()\n",
    "getorg.orgmap.output_html_cluster_map(location_dict, folder_name=\"../talkmap\", hashed_usernames=False)"
   ]
  }
 ],
 "metadata": {
  "anaconda-cloud": {},
  "interpreter": {
   "hash": "5f9ceb661ee72f05cd33c722a45c50c017fff893bceb1fbf832cd1e008073d18"
  },
  "kernelspec": {
   "display_name": "Python 3.9.5 ('base')",
   "language": "python",
   "name": "python3"
  },
  "language_info": {
   "codemirror_mode": {
    "name": "ipython",
    "version": 3
   },
   "file_extension": ".py",
   "mimetype": "text/x-python",
   "name": "python",
   "nbconvert_exporter": "python",
   "pygments_lexer": "ipython3",
   "version": "3.9.5"
  }
 },
 "nbformat": 4,
 "nbformat_minor": 1
}
